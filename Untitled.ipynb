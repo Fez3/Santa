{
 "cells": [
  {
   "cell_type": "code",
   "execution_count": 1,
   "metadata": {},
   "outputs": [],
   "source": [
    "import numpy as np\n",
    "import pandas as pd\n",
    "import matplotlib as plt\n",
    "\n",
    "data = pd.read_csv('family_data.csv')"
   ]
  },
  {
   "cell_type": "code",
   "execution_count": 3,
   "metadata": {},
   "outputs": [
    {
     "name": "stdout",
     "output_type": "stream",
     "text": [
      "<class 'pandas.core.frame.DataFrame'>\n",
      "RangeIndex: 5000 entries, 0 to 4999\n",
      "Data columns (total 12 columns):\n",
      "family_id    5000 non-null int64\n",
      "choice_0     5000 non-null int64\n",
      "choice_1     5000 non-null int64\n",
      "choice_2     5000 non-null int64\n",
      "choice_3     5000 non-null int64\n",
      "choice_4     5000 non-null int64\n",
      "choice_5     5000 non-null int64\n",
      "choice_6     5000 non-null int64\n",
      "choice_7     5000 non-null int64\n",
      "choice_8     5000 non-null int64\n",
      "choice_9     5000 non-null int64\n",
      "n_people     5000 non-null int64\n",
      "dtypes: int64(12)\n",
      "memory usage: 468.8 KB\n"
     ]
    }
   ],
   "source": [
    "data.info()"
   ]
  },
  {
   "cell_type": "code",
   "execution_count": 4,
   "metadata": {},
   "outputs": [
    {
     "data": {
      "text/plain": [
       "21003"
      ]
     },
     "execution_count": 4,
     "metadata": {},
     "output_type": "execute_result"
    }
   ],
   "source": [
    "total_peeps = data.n_people.sum()\n",
    "total_peeps"
   ]
  },
  {
   "cell_type": "markdown",
   "metadata": {},
   "source": [
    "\\begin{equation*}\n",
    "Loss=\\sum_{f=1}^F pref_f(n_f) + \\sum_{d=1}^D (\\alpha n_d^2 - \\beta n_d) e^(\\frac{1}{2} + \\frac{ \\left\\lvert{n_d-n_{d+1}}\\right\\rvert}{50 } )\n",
    "\\end{equation*}"
   ]
  },
  {
   "cell_type": "markdown",
   "metadata": {},
   "source": [
    "Where F=5000 (number of families), D=100 (number of days), and n is the number of people in a family or on a given day (based on the subscript)."
   ]
  },
  {
   "cell_type": "markdown",
   "metadata": {},
   "source": [
    "We begin by minimizing the right-most term of the loss function. This is done by having as many days as possible where $\\alpha n_d^2 - \\beta n_d = 0$ and then by keeping the exponential term $\\frac{ \\left\\lvert{n_d-n_{d+1}}\\right\\rvert}{50 }$ equal to zero on all remaining days where $n_d > 125$."
   ]
  },
  {
   "cell_type": "code",
   "execution_count": null,
   "metadata": {},
   "outputs": [],
   "source": []
  }
 ],
 "metadata": {
  "kernelspec": {
   "display_name": "Python 3",
   "language": "python",
   "name": "python3"
  },
  "language_info": {
   "codemirror_mode": {
    "name": "ipython",
    "version": 3
   },
   "file_extension": ".py",
   "mimetype": "text/x-python",
   "name": "python",
   "nbconvert_exporter": "python",
   "pygments_lexer": "ipython3",
   "version": "3.6.5"
  }
 },
 "nbformat": 4,
 "nbformat_minor": 2
}
